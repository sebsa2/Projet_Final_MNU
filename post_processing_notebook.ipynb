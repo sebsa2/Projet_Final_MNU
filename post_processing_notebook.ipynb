{
 "cells": [
  {
   "cell_type": "code",
   "execution_count": 1,
   "metadata": {
    "collapsed": true
   },
   "outputs": [],
   "source": [
    "import matplotlib.pyplot as plt\n",
    "from matplotlib.animation import FuncAnimation, FFMpegWriter\n",
    "import numpy as np\n",
    "\n",
    "plt.rcParams['animation.ffmpeg_path'] = 'C:\\\\Program Files\\\\ImageMagick-7.0.7-Q16\\\\ffmpeg.exe'\n",
    "plt.rcParams[\"animation.convert_path\"] = \"C:\\\\Program Files\\\\ImageMagick-7.0.7-Q16\\\\magick.exe\"\n",
    "\n",
    "% matplotlib inline"
   ]
  },
  {
   "cell_type": "code",
   "execution_count": 2,
   "metadata": {
    "collapsed": true
   },
   "outputs": [],
   "source": [
    "i = 499\n",
    "\n",
    "Tf = np.genfromtxt('out/output_' + str(i) + '.csv')\n",
    "Tf = Tf.transpose()\n",
    "\n",
    "X = np.arange(Tf.shape[1])\n",
    "Y = np.arange(Tf.shape[0])"
   ]
  },
  {
   "cell_type": "code",
   "execution_count": null,
   "metadata": {},
   "outputs": [],
   "source": [
    "fig, (ax1,ax2) = plt.subplots(2,1,figsize=(12,15))\n",
    "\n",
    "im = ax1.pcolormesh(X,Y,Tf, label='Temperature en Kelvin')\n",
    "ax1.set_title(\"Champ de température final\")\n",
    "fig.colorbar(im, ax=ax1)\n",
    "ax1.set_xlabel(\"x(m)\")\n",
    "ax1.set_ylabel(\"y(m)\")\n",
    "\n",
    "yfix = [0,1,3,5,7,9]\n",
    "for y in yfix:\n",
    "    ax2.plot(X,Tf[y,:], label='y={}'.format(y))\n",
    "ax2.set_title(\"Température en fonction de x pour y fixé\")\n",
    "ax2.set_xlabel(\"x(m)\")\n",
    "ax2.set_ylabel(\"T(K)\")\n",
    "ax2.legend()"
   ]
  },
  {
   "cell_type": "code",
   "execution_count": 4,
   "metadata": {},
   "outputs": [],
   "source": [
    "imax = 500\n",
    "T = []\n",
    "for i in range(0,imax,5):\n",
    "    T.append(np.genfromtxt('out/output_' + str(i+1) + '.csv'))\n",
    "\n",
    "for i in range(len(T)):\n",
    "    T[i] = T[i].transpose()"
   ]
  },
  {
   "cell_type": "code",
   "execution_count": 6,
   "metadata": {},
   "outputs": [
    {
     "data": {
      "image/png": "[encoded data removed]",
      "text/plain": [
       "<matplotlib.figure.Figure at 0x1d82dafb630>"
      ]
     },
     "metadata": {},
     "output_type": "display_data"
    }
   ],
   "source": [
    "fig, ax = plt.subplots()\n",
    "xdata, ydata, Tdata = [], [], []\n",
    "\n",
    "im = ax.pcolormesh(X,Y,T[0], label='Temperature en Kelvin')\n",
    "\n",
    "fig.colorbar(im, ax=ax)\n",
    "\n",
    "def init():\n",
    "    ax.set_title(\"Champ de température\")\n",
    "    ax.set_xlabel(\"x(m)\")\n",
    "    ax.set_ylabel(\"y(m)\")\n",
    "    return im,\n",
    "\n",
    "def update(frame):\n",
    "    xdata = X\n",
    "    ydata = Y\n",
    "    Tdata = T[frame]\n",
    "    im = ax.pcolormesh(X,Y,T[frame], label='Temperature en Kelvin')\n",
    "    return im,\n",
    "\n",
    "ani = FuncAnimation(fig, update, frames=range(1,len(T)), init_func=init, blit=False)\n",
    "ani.save(\"test.gif\", writer=\"imagemagick\")"
   ]
  },
  {
   "cell_type": "code",
   "execution_count": null,
   "metadata": {
    "collapsed": true
   },
   "outputs": [],
   "source": []
  }
 ],
 "metadata": {
  "kernelspec": {
   "display_name": "Python 3",
   "language": "python",
   "name": "python3"
  },
  "language_info": {
   "codemirror_mode": {
    "name": "ipython",
    "version": 3
   },
   "file_extension": ".py",
   "mimetype": "text/x-python",
   "name": "python",
   "nbconvert_exporter": "python",
   "pygments_lexer": "ipython3",
   "version": "3.6.1"
  }
 },
 "nbformat": 4,
 "nbformat_minor": 2
}
